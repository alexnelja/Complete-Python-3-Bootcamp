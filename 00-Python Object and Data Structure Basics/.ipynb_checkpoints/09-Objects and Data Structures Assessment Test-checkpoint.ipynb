{
  "cells": [
    {
      "cell_type": "markdown",
      "metadata": {
        "id": "lNOl4T65HVgg"
      },
      "source": [
        "___\n",
        "\n",
        "<a href='https://www.udemy.com/user/joseportilla/'><img src='https://github.com/alexnelja/Complete-Python-3-Bootcamp/blob/master/00-Python%20Object%20and%20Data%20Structure%20Basics/Pierian_Data_Logo.png?raw=1'/></a>\n",
        "___\n",
        "<center><em>Content Copyright by Pierian Data</em></center>\n",
        "# Objects and Data Structures Assessment Test"
      ]
    },
    {
      "cell_type": "markdown",
      "metadata": {
        "collapsed": true,
        "id": "xo1nXirWHVgi"
      },
      "source": [
        "## Test your knowledge.\n",
        "\n",
        "** Answer the following questions **"
      ]
    },
    {
      "cell_type": "markdown",
      "metadata": {
        "collapsed": true,
        "id": "SAcPfI05HVgi"
      },
      "source": [
        "Write (or just say out loud to yourself) a brief description of all the following Object Types and Data Structures we've learned about. You can edit the cell below by double clicking on it. Really this is just to test if you know the difference between these, so feel free to just think about it, since your answers are self-graded."
      ]
    },
    {
      "cell_type": "markdown",
      "metadata": {
        "id": "IIe2sx-fHVgi"
      },
      "source": [
        "Double Click HERE to edit this markdown cell and write answers.\n",
        "\n",
        "Numbers: integers and floats\n",
        "\n",
        "Strings:\n",
        "\n",
        "Lists:\n",
        "\n",
        "Tuples:\n",
        "\n",
        "Dictionaries:\n"
      ]
    },
    {
      "cell_type": "markdown",
      "metadata": {
        "id": "C00jQmnsHVgi"
      },
      "source": [
        "## Numbers\n",
        "\n",
        "Write an equation that uses multiplication, division, an exponent, addition, and subtraction that is equal to 100.25.\n",
        "\n",
        "Hint: This is just to test your memory of the basic arithmetic commands, work backwards from 100.25"
      ]
    },
    {
      "cell_type": "code",
      "execution_count": null,
      "metadata": {
        "collapsed": true,
        "id": "q8SgL0QLHVgj"
      },
      "outputs": [],
      "source": []
    },
    {
      "cell_type": "markdown",
      "metadata": {
        "id": "uVoB4Qq5HVgj"
      },
      "source": [
        "Answer these 3 questions without typing code. Then type code to check your answer.\n",
        "\n",
        "    What is the value of the expression 4 * (6 + 5)\n",
        "    \n",
        "    What is the value of the expression 4 * 6 + 5\n",
        "    \n",
        "    What is the value of the expression 4 + 6 * 5"
      ]
    },
    {
      "cell_type": "code",
      "execution_count": null,
      "metadata": {
        "collapsed": true,
        "id": "3hGob4dqHVgj"
      },
      "outputs": [],
      "source": []
    },
    {
      "cell_type": "markdown",
      "metadata": {
        "id": "UPFI9fsDHVgj"
      },
      "source": [
        "What is the *type* of the result of the expression 3 + 1.5 + 4?<br><br>"
      ]
    },
    {
      "cell_type": "markdown",
      "metadata": {
        "id": "5tdcMjzjHVgj"
      },
      "source": [
        "What would you use to find a number’s square root, as well as its square?"
      ]
    },
    {
      "cell_type": "code",
      "execution_count": null,
      "metadata": {
        "collapsed": true,
        "id": "eWu13I9jHVgj"
      },
      "outputs": [],
      "source": [
        "# Square root:\n"
      ]
    },
    {
      "cell_type": "code",
      "execution_count": null,
      "metadata": {
        "collapsed": true,
        "id": "h8y6LJ4cHVgk"
      },
      "outputs": [],
      "source": [
        "# Square:\n"
      ]
    },
    {
      "cell_type": "markdown",
      "metadata": {
        "id": "Rr4BqfqoHVgk"
      },
      "source": [
        "## Strings"
      ]
    },
    {
      "cell_type": "markdown",
      "metadata": {
        "id": "1_Sd1jOzHVgk"
      },
      "source": [
        "Given the string 'hello' give an index command that returns 'e'. Enter your code in the cell below:"
      ]
    },
    {
      "cell_type": "code",
      "execution_count": null,
      "metadata": {
        "collapsed": true,
        "id": "GfSblcafHVgk"
      },
      "outputs": [],
      "source": [
        "s = 'hello'\n",
        "# Print out 'e' using indexing\n",
        "\n"
      ]
    },
    {
      "cell_type": "markdown",
      "metadata": {
        "id": "HBGd_JnuHVgk"
      },
      "source": [
        "Reverse the string 'hello' using slicing:"
      ]
    },
    {
      "cell_type": "code",
      "execution_count": null,
      "metadata": {
        "collapsed": true,
        "id": "ci4ivPhJHVgk"
      },
      "outputs": [],
      "source": [
        "s ='hello'\n",
        "# Reverse the string using slicing\n",
        "\n"
      ]
    },
    {
      "cell_type": "markdown",
      "metadata": {
        "id": "QI14cFtsHVgk"
      },
      "source": [
        "Given the string hello, give two methods of producing the letter 'o' using indexing."
      ]
    },
    {
      "cell_type": "code",
      "execution_count": null,
      "metadata": {
        "collapsed": true,
        "id": "-SZIcp_nHVgk"
      },
      "outputs": [],
      "source": [
        "s ='hello'\n",
        "# Print out the 'o'\n",
        "\n",
        "# Method 1:\n",
        "\n"
      ]
    },
    {
      "cell_type": "code",
      "execution_count": null,
      "metadata": {
        "collapsed": true,
        "id": "ioAQfNM5HVgk"
      },
      "outputs": [],
      "source": [
        "# Method 2:\n",
        "\n"
      ]
    },
    {
      "cell_type": "markdown",
      "metadata": {
        "id": "4YkXazR2HVgk"
      },
      "source": [
        "## Lists"
      ]
    },
    {
      "cell_type": "markdown",
      "metadata": {
        "id": "2JQfYO7lHVgl"
      },
      "source": [
        "Build this list [0,0,0] two separate ways."
      ]
    },
    {
      "cell_type": "code",
      "execution_count": null,
      "metadata": {
        "collapsed": true,
        "id": "uhsUco_DHVgl"
      },
      "outputs": [],
      "source": [
        "# Method 1:\n"
      ]
    },
    {
      "cell_type": "code",
      "execution_count": null,
      "metadata": {
        "collapsed": true,
        "id": "xejJuKtWHVgl"
      },
      "outputs": [],
      "source": [
        "# Method 2:\n"
      ]
    },
    {
      "cell_type": "markdown",
      "metadata": {
        "id": "whx6iFc8HVgl"
      },
      "source": [
        "Reassign 'hello' in this nested list to say 'goodbye' instead:"
      ]
    },
    {
      "cell_type": "code",
      "execution_count": null,
      "metadata": {
        "collapsed": true,
        "id": "Upn-TwORHVgl"
      },
      "outputs": [],
      "source": [
        "list3 = [1,2,[3,4,'hello']]\n",
        "\n"
      ]
    },
    {
      "cell_type": "markdown",
      "metadata": {
        "id": "0KXoGshjHVgl"
      },
      "source": [
        "Sort the list below:"
      ]
    },
    {
      "cell_type": "code",
      "execution_count": null,
      "metadata": {
        "collapsed": true,
        "id": "q99l4znNHVgl"
      },
      "outputs": [],
      "source": [
        "list4 = [5,3,4,6,1]\n",
        "\n"
      ]
    },
    {
      "cell_type": "markdown",
      "metadata": {
        "id": "Jq8IGwT_HVgl"
      },
      "source": [
        "## Dictionaries"
      ]
    },
    {
      "cell_type": "markdown",
      "metadata": {
        "id": "dwu-rXGxHVgl"
      },
      "source": [
        "Using keys and indexing, grab the 'hello' from the following dictionaries:"
      ]
    },
    {
      "cell_type": "code",
      "execution_count": null,
      "metadata": {
        "collapsed": true,
        "id": "iHrdAFnHHVgl"
      },
      "outputs": [],
      "source": [
        "d = {'simple_key':'hello'}\n",
        "# Grab 'hello'\n"
      ]
    },
    {
      "cell_type": "code",
      "execution_count": null,
      "metadata": {
        "collapsed": true,
        "id": "Xxc2E9K7HVgl"
      },
      "outputs": [],
      "source": [
        "d = {'k1':{'k2':'hello'}}\n",
        "# Grab 'hello'\n"
      ]
    },
    {
      "cell_type": "code",
      "execution_count": null,
      "metadata": {
        "collapsed": true,
        "id": "Fk4xnqYqHVgl"
      },
      "outputs": [],
      "source": [
        "# Getting a little tricker\n",
        "d = {'k1':[{'nest_key':['this is deep',['hello']]}]}\n",
        "\n",
        "#Grab hello\n"
      ]
    },
    {
      "cell_type": "code",
      "execution_count": null,
      "metadata": {
        "collapsed": true,
        "id": "iX8ZU0hLHVgl"
      },
      "outputs": [],
      "source": [
        "# This will be hard and annoying!\n",
        "d = {'k1':[1,2,{'k2':['this is tricky',{'tough':[1,2,['hello']]}]}]}"
      ]
    },
    {
      "cell_type": "markdown",
      "metadata": {
        "id": "yRkLmWcFHVgl"
      },
      "source": [
        "Can you sort a dictionary? Why or why not?<br><br>"
      ]
    },
    {
      "cell_type": "markdown",
      "metadata": {
        "id": "VSaSt3WKHVgl"
      },
      "source": [
        "## Tuples"
      ]
    },
    {
      "cell_type": "markdown",
      "metadata": {
        "id": "oPuwwqrEHVgl"
      },
      "source": [
        "What is the major difference between tuples and lists?<br><br>"
      ]
    },
    {
      "cell_type": "markdown",
      "metadata": {
        "id": "r55lWQKiHVgl"
      },
      "source": [
        "How do you create a tuple?<br><br>"
      ]
    },
    {
      "cell_type": "markdown",
      "metadata": {
        "id": "nmsnShG3HVgl"
      },
      "source": [
        "## Sets"
      ]
    },
    {
      "cell_type": "markdown",
      "metadata": {
        "id": "TWDKr6ZHHVgp"
      },
      "source": [
        "What is unique about a set?<br><br>"
      ]
    },
    {
      "cell_type": "markdown",
      "metadata": {
        "id": "FI-jt297HVgp"
      },
      "source": [
        "Use a set to find the unique values of the list below:"
      ]
    },
    {
      "cell_type": "code",
      "execution_count": null,
      "metadata": {
        "collapsed": true,
        "id": "qdLWnRpiHVgp"
      },
      "outputs": [],
      "source": [
        "list5 = [1,2,2,33,4,4,11,22,3,3,2]\n",
        "\n",
        "\n"
      ]
    },
    {
      "cell_type": "markdown",
      "metadata": {
        "id": "aiw0mSuJHVgq"
      },
      "source": [
        "## Booleans"
      ]
    },
    {
      "cell_type": "markdown",
      "metadata": {
        "id": "D29nAAPzHVgq"
      },
      "source": [
        "For the following quiz questions, we will get a preview of comparison operators. In the table below, a=3 and b=4.\n",
        "\n",
        "<table class=\"table table-bordered\">\n",
        "<tr>\n",
        "<th style=\"width:10%\">Operator</th><th style=\"width:45%\">Description</th><th>Example</th>\n",
        "</tr>\n",
        "<tr>\n",
        "<td>==</td>\n",
        "<td>If the values of two operands are equal, then the condition becomes true.</td>\n",
        "<td> (a == b) is not true.</td>\n",
        "</tr>\n",
        "<tr>\n",
        "<td>!=</td>\n",
        "<td>If values of two operands are not equal, then condition becomes true.</td>\n",
        "<td> (a != b) is true.</td>\n",
        "</tr>\n",
        "<tr>\n",
        "<td>&gt;</td>\n",
        "<td>If the value of left operand is greater than the value of right operand, then condition becomes true.</td>\n",
        "<td> (a &gt; b) is not true.</td>\n",
        "</tr>\n",
        "<tr>\n",
        "<td>&lt;</td>\n",
        "<td>If the value of left operand is less than the value of right operand, then condition becomes true.</td>\n",
        "<td> (a &lt; b) is true.</td>\n",
        "</tr>\n",
        "<tr>\n",
        "<td>&gt;=</td>\n",
        "<td>If the value of left operand is greater than or equal to the value of right operand, then condition becomes true.</td>\n",
        "<td> (a &gt;= b) is not true. </td>\n",
        "</tr>\n",
        "<tr>\n",
        "<td>&lt;=</td>\n",
        "<td>If the value of left operand is less than or equal to the value of right operand, then condition becomes true.</td>\n",
        "<td> (a &lt;= b) is true. </td>\n",
        "</tr>\n",
        "</table>"
      ]
    },
    {
      "cell_type": "markdown",
      "metadata": {
        "id": "jcsaQmB8HVgq"
      },
      "source": [
        "What will be the resulting Boolean of the following pieces of code (answer fist then check by typing it in!)"
      ]
    },
    {
      "cell_type": "code",
      "execution_count": null,
      "metadata": {
        "collapsed": true,
        "id": "H925FTlcHVgq"
      },
      "outputs": [],
      "source": [
        "# Answer before running cell\n",
        "2 > 3"
      ]
    },
    {
      "cell_type": "code",
      "execution_count": null,
      "metadata": {
        "collapsed": true,
        "id": "cT5PPveTHVgq"
      },
      "outputs": [],
      "source": [
        "# Answer before running cell\n",
        "3 <= 2"
      ]
    },
    {
      "cell_type": "code",
      "execution_count": null,
      "metadata": {
        "collapsed": true,
        "id": "iBO0QZBOHVgq"
      },
      "outputs": [],
      "source": [
        "# Answer before running cell\n",
        "3 == 2.0"
      ]
    },
    {
      "cell_type": "code",
      "execution_count": null,
      "metadata": {
        "collapsed": true,
        "id": "pcOl3rOJHVgq"
      },
      "outputs": [],
      "source": [
        "# Answer before running cell\n",
        "3.0 == 3"
      ]
    },
    {
      "cell_type": "code",
      "execution_count": null,
      "metadata": {
        "collapsed": true,
        "id": "v4DkrqmKHVgq"
      },
      "outputs": [],
      "source": [
        "# Answer before running cell\n",
        "4**0.5 != 2"
      ]
    },
    {
      "cell_type": "markdown",
      "metadata": {
        "id": "XJf_E8iPHVgq"
      },
      "source": [
        "Final Question: What is the boolean output of the cell block below?"
      ]
    },
    {
      "cell_type": "code",
      "execution_count": null,
      "metadata": {
        "collapsed": true,
        "id": "GPgNneIsHVgq"
      },
      "outputs": [],
      "source": [
        "# two nested lists\n",
        "l_one = [1,2,[3,4]]\n",
        "l_two = [1,2,{'k1':4}]\n",
        "\n",
        "# True or False?\n",
        "l_one[2][0] >= l_two[2]['k1']"
      ]
    },
    {
      "cell_type": "markdown",
      "metadata": {
        "id": "Hly3dCp6HVgq"
      },
      "source": [
        "## Great Job on your first assessment!"
      ]
    }
  ],
  "metadata": {
    "anaconda-cloud": {},
    "kernelspec": {
      "display_name": "Python 3",
      "language": "python",
      "name": "python3"
    },
    "language_info": {
      "codemirror_mode": {
        "name": "ipython",
        "version": 3
      },
      "file_extension": ".py",
      "mimetype": "text/x-python",
      "name": "python",
      "nbconvert_exporter": "python",
      "pygments_lexer": "ipython3",
      "version": "3.6.6"
    },
    "colab": {
      "provenance": []
    }
  },
  "nbformat": 4,
  "nbformat_minor": 0
}